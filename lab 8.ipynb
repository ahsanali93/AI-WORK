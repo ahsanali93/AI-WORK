{
 "cells": [
  {
   "cell_type": "code",
   "execution_count": null,
   "id": "821870be",
   "metadata": {},
   "outputs": [],
   "source": [
    "Task 1: Make a calculator using the function the code should use only 2 operands(+ and  -) for division and multiplication as well."
   ]
  },
  {
   "cell_type": "code",
   "execution_count": 1,
   "id": "70aae6de",
   "metadata": {},
   "outputs": [
    {
     "name": "stdout",
     "output_type": "stream",
     "text": [
      "Result: 5\n"
     ]
    }
   ],
   "source": [
    "def add(a, b):\n",
    "    return a + b\n",
    "\n",
    "def subtract(a, b):\n",
    "    return a - b\n",
    "\n",
    "def multiply(a, b):\n",
    "    result = 0\n",
    "    for _ in range(abs(b)):\n",
    "        result = add(result, abs(a))\n",
    "    if (a < 0) ^ (b < 0):\n",
    "        result = -result\n",
    "    return result\n",
    "\n",
    "def divide(a, b):\n",
    "    if b == 0:\n",
    "        return \"Error: Division by zero\"\n",
    "    count = 0\n",
    "    a, b = abs(a), abs(b)\n",
    "    while a >= b:\n",
    "        a = subtract(a, b)\n",
    "        count = add(count, 1)\n",
    "    if (a < 0) ^ (b < 0):\n",
    "        count = -count\n",
    "    return count\n",
    "\n",
    "def calculator():\n",
    "    a = int(input(\"Enter first number: \"))\n",
    "    b = int(input(\"Enter second number: \"))\n",
    "    op = input(\"Enter operation (+, -, *, /): \")\n",
    "\n",
    "    if op == '+':\n",
    "        print(\"Result:\", add(a, b))\n",
    "    elif op == '-':\n",
    "        print(\"Result:\", subtract(a, b))\n",
    "    elif op == '*':\n",
    "        print(\"Result:\", multiply(a, b))\n",
    "    elif op == '/':\n",
    "        print(\"Result:\", divide(a, b))\n",
    "    else:\n",
    "        print(\"Invalid operator!\")\n",
    "\n",
    "calculator()\n"
   ]
  },
  {
   "cell_type": "markdown",
   "id": "c5df70d6",
   "metadata": {},
   "source": [
    "Task 2: Write a functions that ask the user the shape and make the star shaped.\n",
    "(Like it asks the shape(triangle or Rectangle) and make that shape.."
   ]
  },
  {
   "cell_type": "code",
   "execution_count": 2,
   "id": "56a69990",
   "metadata": {},
   "outputs": [
    {
     "name": "stdout",
     "output_type": "stream",
     "text": [
      "*\n",
      "**\n",
      "***\n"
     ]
    }
   ],
   "source": [
    "def print_triangle(rows):\n",
    "    for i in range(1, rows + 1):\n",
    "        print('*' * i)\n",
    "\n",
    "def print_rectangle(rows, cols):\n",
    "    for _ in range(rows):\n",
    "        print('*' * cols)\n",
    "def star_shape():\n",
    "    shape = input(\"Enter shape (triangle or rectangle): \").lower()\n",
    "    \n",
    "    if shape == \"triangle\":\n",
    "        rows = int(input(\"Enter number of rows for the triangle: \"))\n",
    "        print_triangle(rows)\n",
    "    elif shape == \"rectangle\":\n",
    "        rows = int(input(\"Enter number of rows for the rectangle: \"))\n",
    "        cols = int(input(\"Enter number of columns for the rectangle: \"))\n",
    "        print_rectangle(rows, cols)\n",
    "    else:\n",
    "        print(\"Invalid shape!\")\n",
    "\n",
    "star_shape()\n"
   ]
  }
 ],
 "metadata": {
  "kernelspec": {
   "display_name": "Python 3",
   "language": "python",
   "name": "python3"
  },
  "language_info": {
   "codemirror_mode": {
    "name": "ipython",
    "version": 3
   },
   "file_extension": ".py",
   "mimetype": "text/x-python",
   "name": "python",
   "nbconvert_exporter": "python",
   "pygments_lexer": "ipython3",
   "version": "3.13.1"
  }
 },
 "nbformat": 4,
 "nbformat_minor": 5
}
